{
  "nbformat": 4,
  "nbformat_minor": 0,
  "metadata": {
    "colab": {
      "provenance": [],
      "authorship_tag": "ABX9TyMxlDU32lTXXDWlSO1dDCGp",
      "include_colab_link": true
    },
    "kernelspec": {
      "name": "ir",
      "display_name": "R"
    },
    "language_info": {
      "name": "R"
    }
  },
  "cells": [
    {
      "cell_type": "markdown",
      "metadata": {
        "id": "view-in-github",
        "colab_type": "text"
      },
      "source": [
        "<a href=\"https://colab.research.google.com/github/cogilv25/21010093uhi_DataAnalytics/blob/main/Notebook.ipynb\" target=\"_parent\"><img src=\"https://colab.research.google.com/assets/colab-badge.svg\" alt=\"Open In Colab\"/></a>"
      ]
    },
    {
      "cell_type": "markdown",
      "source": [
        "# Data Collection\n",
        "Google Maps was used in order to find a reasonable set of bounds for central Chicago which could then be used to query noaa_gsod for a suitable weather station to use. The chosen bounds were between 41.64269 and 42.01970 latitude by between -87.84233 and -87.51702 longitude as shown:\n"
      ],
      "metadata": {
        "id": "YiEtuLWjueR_"
      }
    },
    {
      "cell_type": "code",
      "execution_count": 1,
      "metadata": {
        "colab": {
          "base_uri": "https://localhost:8080/",
          "height": 106
        },
        "id": "9EI04Uoft9lF",
        "outputId": "c0aa5eb0-3b28-493a-e016-0f776ef09ef7"
      },
      "outputs": [
        {
          "output_type": "error",
          "ename": "ERROR",
          "evalue": "Error in parse(text = input): <text>:1:15: unexpected symbol\n1: SELECT * FROM a\n                  ^\n",
          "traceback": [
            "Error in parse(text = input): <text>:1:15: unexpected symbol\n1: SELECT * FROM a\n                  ^\nTraceback:\n"
          ]
        }
      ],
      "source": []
    }
  ]
}